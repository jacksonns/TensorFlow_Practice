{
  "cells": [
    {
      "cell_type": "markdown",
      "id": "758ed58c",
      "metadata": {
        "id": "758ed58c"
      },
      "source": [
        "# TensorFlow Regression"
      ]
    },
    {
      "cell_type": "code",
      "execution_count": 1,
      "id": "2bda8e4f",
      "metadata": {
        "id": "2bda8e4f"
      },
      "outputs": [],
      "source": [
        "import tensorflow as tf\n",
        "import numpy as np\n",
        "from matplotlib import pyplot as plt"
      ]
    },
    {
      "cell_type": "code",
      "execution_count": 2,
      "id": "2e5ca9fa",
      "metadata": {
        "colab": {
          "base_uri": "https://localhost:8080/"
        },
        "id": "2e5ca9fa",
        "outputId": "12c373ed-621e-4c52-9292-07290a5216c9"
      },
      "outputs": [
        {
          "output_type": "stream",
          "name": "stdout",
          "text": [
            "2.8.0\n"
          ]
        }
      ],
      "source": [
        "print(tf.__version__)"
      ]
    },
    {
      "cell_type": "code",
      "source": [
        ""
      ],
      "metadata": {
        "id": "hbI5FtTeytl9"
      },
      "id": "hbI5FtTeytl9",
      "execution_count": 2,
      "outputs": []
    },
    {
      "cell_type": "markdown",
      "source": [
        "#### 0. Familiarizing with concepts"
      ],
      "metadata": {
        "id": "v8hCRYwHyuBp"
      },
      "id": "v8hCRYwHyuBp"
    },
    {
      "cell_type": "code",
      "source": [
        "def func(X):\n",
        "  return X + 10"
      ],
      "metadata": {
        "id": "7hrGE4X36NC2"
      },
      "id": "7hrGE4X36NC2",
      "execution_count": 3,
      "outputs": []
    },
    {
      "cell_type": "code",
      "execution_count": 4,
      "id": "a543ae99",
      "metadata": {
        "colab": {
          "base_uri": "https://localhost:8080/",
          "height": 286
        },
        "id": "a543ae99",
        "outputId": "ee54672d-d58b-40d8-ebcc-5e9396b94b34"
      },
      "outputs": [
        {
          "output_type": "execute_result",
          "data": {
            "text/plain": [
              "<matplotlib.collections.PathCollection at 0x7f4211ef6890>"
            ]
          },
          "metadata": {},
          "execution_count": 4
        },
        {
          "output_type": "display_data",
          "data": {
            "text/plain": [
              "<Figure size 432x288 with 1 Axes>"
            ],
            "image/png": "[encoded data removed]"
          },
          "metadata": {
            "needs_background": "light"
          }
        }
      ],
      "source": [
        "X = np.array([-7.0, -4.0, -1.0, 2.0, 5.0, 8.0, 11.0, 14.0])\n",
        "Y = func(X)\n",
        "plt.scatter(X, Y)"
      ]
    },
    {
      "cell_type": "markdown",
      "source": [
        "**First Model**"
      ],
      "metadata": {
        "id": "En-yo_UjBkEb"
      },
      "id": "En-yo_UjBkEb"
    },
    {
      "cell_type": "markdown",
      "source": [
        ""
      ],
      "metadata": {
        "id": "t7ex065kBic7"
      },
      "id": "t7ex065kBic7"
    },
    {
      "cell_type": "code",
      "source": [
        "tf.random.set_seed(27)\n",
        "\n",
        "model = tf.keras.Sequential([\n",
        "     tf.keras.layers.Dense(1)\n",
        "])\n",
        "\n",
        "model.compile(loss = tf.keras.losses.mae,  # mean absolute error\n",
        "              optimizer = tf.keras.optimizers.SGD(),  # stochastic gradient descent\n",
        "              metrics = ['mae'])\n",
        "\n",
        "model.fit(tf.expand_dims(X, axis=-1), Y, epochs = 5)"
      ],
      "metadata": {
        "colab": {
          "base_uri": "https://localhost:8080/"
        },
        "id": "ZoX_quK66uYw",
        "outputId": "ff626f4b-e001-4c3e-a674-716e6ac387b0"
      },
      "id": "ZoX_quK66uYw",
      "execution_count": 5,
      "outputs": [
        {
          "output_type": "stream",
          "name": "stdout",
          "text": [
            "Epoch 1/5\n",
            "1/1 [==============================] - 1s 758ms/step - loss: 13.2017 - mae: 13.2017\n",
            "Epoch 2/5\n",
            "1/1 [==============================] - 0s 22ms/step - loss: 13.0692 - mae: 13.0692\n",
            "Epoch 3/5\n",
            "1/1 [==============================] - 0s 26ms/step - loss: 12.9367 - mae: 12.9367\n",
            "Epoch 4/5\n",
            "1/1 [==============================] - 0s 15ms/step - loss: 12.8042 - mae: 12.8042\n",
            "Epoch 5/5\n",
            "1/1 [==============================] - 0s 16ms/step - loss: 12.6717 - mae: 12.6717\n"
          ]
        },
        {
          "output_type": "execute_result",
          "data": {
            "text/plain": [
              "<keras.callbacks.History at 0x7f4211149490>"
            ]
          },
          "metadata": {},
          "execution_count": 5
        }
      ]
    },
    {
      "cell_type": "code",
      "source": [
        "# Trying to predict, should be around 30\n",
        "model.predict([20.0])"
      ],
      "metadata": {
        "colab": {
          "base_uri": "https://localhost:8080/"
        },
        "id": "1m1_NLM9AZc7",
        "outputId": "825baf46-109f-491d-9b37-97136ee2e791"
      },
      "id": "1m1_NLM9AZc7",
      "execution_count": 6,
      "outputs": [
        {
          "output_type": "execute_result",
          "data": {
            "text/plain": [
              "array([[5.254595]], dtype=float32)"
            ]
          },
          "metadata": {},
          "execution_count": 6
        }
      ]
    },
    {
      "cell_type": "markdown",
      "source": [
        "**Improving previous model with higher \"epochs\"**"
      ],
      "metadata": {
        "id": "wbth9cfxBqWb"
      },
      "id": "wbth9cfxBqWb"
    },
    {
      "cell_type": "code",
      "source": [
        "model = tf.keras.Sequential([\n",
        "     tf.keras.layers.Dense(1)\n",
        "])\n",
        "\n",
        "model.compile(loss = tf.keras.losses.mae,  # mean absolute error\n",
        "              optimizer = tf.keras.optimizers.SGD(),  # stochastic gradient descent\n",
        "              metrics = ['mae'])\n",
        "\n",
        "# Training more\n",
        "model.fit(tf.expand_dims(X, axis=-1), Y, epochs = 100)"
      ],
      "metadata": {
        "colab": {
          "base_uri": "https://localhost:8080/"
        },
        "id": "985DHGnxBt4r",
        "outputId": "cc88b3f0-bd6b-4e99-ff9e-ba731b5a4763"
      },
      "id": "985DHGnxBt4r",
      "execution_count": 7,
      "outputs": [
        {
          "output_type": "stream",
          "name": "stdout",
          "text": [
            "Epoch 1/100\n",
            "1/1 [==============================] - 1s 760ms/step - loss: 13.6389 - mae: 13.6389\n",
            "Epoch 2/100\n",
            "1/1 [==============================] - 0s 14ms/step - loss: 13.5064 - mae: 13.5064\n",
            "Epoch 3/100\n",
            "1/1 [==============================] - 0s 11ms/step - loss: 13.3739 - mae: 13.3739\n",
            "Epoch 4/100\n",
            "1/1 [==============================] - 0s 17ms/step - loss: 13.2414 - mae: 13.2414\n",
            "Epoch 5/100\n",
            "1/1 [==============================] - 0s 13ms/step - loss: 13.1089 - mae: 13.1089\n",
            "Epoch 6/100\n",
            "1/1 [==============================] - 0s 17ms/step - loss: 12.9764 - mae: 12.9764\n",
            "Epoch 7/100\n",
            "1/1 [==============================] - 0s 10ms/step - loss: 12.8439 - mae: 12.8439\n",
            "Epoch 8/100\n",
            "1/1 [==============================] - 0s 17ms/step - loss: 12.7114 - mae: 12.7114\n",
            "Epoch 9/100\n",
            "1/1 [==============================] - 0s 32ms/step - loss: 12.5789 - mae: 12.5789\n",
            "Epoch 10/100\n",
            "1/1 [==============================] - 0s 15ms/step - loss: 12.4464 - mae: 12.4464\n",
            "Epoch 11/100\n",
            "1/1 [==============================] - 0s 18ms/step - loss: 12.3139 - mae: 12.3139\n",
            "Epoch 12/100\n",
            "1/1 [==============================] - 0s 10ms/step - loss: 12.1814 - mae: 12.1814\n",
            "Epoch 13/100\n",
            "1/1 [==============================] - 0s 16ms/step - loss: 12.0489 - mae: 12.0489\n",
            "Epoch 14/100\n",
            "1/1 [==============================] - 0s 28ms/step - loss: 11.9164 - mae: 11.9164\n",
            "Epoch 15/100\n",
            "1/1 [==============================] - 0s 10ms/step - loss: 11.7839 - mae: 11.7839\n",
            "Epoch 16/100\n",
            "1/1 [==============================] - 0s 22ms/step - loss: 11.6514 - mae: 11.6514\n",
            "Epoch 17/100\n",
            "1/1 [==============================] - 0s 11ms/step - loss: 11.5189 - mae: 11.5189\n",
            "Epoch 18/100\n",
            "1/1 [==============================] - 0s 11ms/step - loss: 11.3864 - mae: 11.3864\n",
            "Epoch 19/100\n",
            "1/1 [==============================] - 0s 12ms/step - loss: 11.2539 - mae: 11.2539\n",
            "Epoch 20/100\n",
            "1/1 [==============================] - 0s 10ms/step - loss: 11.1214 - mae: 11.1214\n",
            "Epoch 21/100\n",
            "1/1 [==============================] - 0s 16ms/step - loss: 10.9889 - mae: 10.9889\n",
            "Epoch 22/100\n",
            "1/1 [==============================] - 0s 12ms/step - loss: 10.8564 - mae: 10.8564\n",
            "Epoch 23/100\n",
            "1/1 [==============================] - 0s 9ms/step - loss: 10.7239 - mae: 10.7239\n",
            "Epoch 24/100\n",
            "1/1 [==============================] - 0s 19ms/step - loss: 10.5914 - mae: 10.5914\n",
            "Epoch 25/100\n",
            "1/1 [==============================] - 0s 11ms/step - loss: 10.4589 - mae: 10.4589\n",
            "Epoch 26/100\n",
            "1/1 [==============================] - 0s 8ms/step - loss: 10.3264 - mae: 10.3264\n",
            "Epoch 27/100\n",
            "1/1 [==============================] - 0s 12ms/step - loss: 10.1939 - mae: 10.1939\n",
            "Epoch 28/100\n",
            "1/1 [==============================] - 0s 15ms/step - loss: 10.0614 - mae: 10.0614\n",
            "Epoch 29/100\n",
            "1/1 [==============================] - 0s 12ms/step - loss: 9.9289 - mae: 9.9289\n",
            "Epoch 30/100\n",
            "1/1 [==============================] - 0s 12ms/step - loss: 9.7964 - mae: 9.7964\n",
            "Epoch 31/100\n",
            "1/1 [==============================] - 0s 11ms/step - loss: 9.6639 - mae: 9.6639\n",
            "Epoch 32/100\n",
            "1/1 [==============================] - 0s 21ms/step - loss: 9.5314 - mae: 9.5314\n",
            "Epoch 33/100\n",
            "1/1 [==============================] - 0s 22ms/step - loss: 9.3989 - mae: 9.3989\n",
            "Epoch 34/100\n",
            "1/1 [==============================] - 0s 23ms/step - loss: 9.2664 - mae: 9.2664\n",
            "Epoch 35/100\n",
            "1/1 [==============================] - 0s 11ms/step - loss: 9.1339 - mae: 9.1339\n",
            "Epoch 36/100\n",
            "1/1 [==============================] - 0s 45ms/step - loss: 9.0014 - mae: 9.0014\n",
            "Epoch 37/100\n",
            "1/1 [==============================] - 0s 14ms/step - loss: 8.8689 - mae: 8.8689\n",
            "Epoch 38/100\n",
            "1/1 [==============================] - 0s 26ms/step - loss: 8.7364 - mae: 8.7364\n",
            "Epoch 39/100\n",
            "1/1 [==============================] - 0s 11ms/step - loss: 8.6039 - mae: 8.6039\n",
            "Epoch 40/100\n",
            "1/1 [==============================] - 0s 10ms/step - loss: 8.4714 - mae: 8.4714\n",
            "Epoch 41/100\n",
            "1/1 [==============================] - 0s 11ms/step - loss: 8.3389 - mae: 8.3389\n",
            "Epoch 42/100\n",
            "1/1 [==============================] - 0s 12ms/step - loss: 8.2064 - mae: 8.2064\n",
            "Epoch 43/100\n",
            "1/1 [==============================] - 0s 15ms/step - loss: 8.0739 - mae: 8.0739\n",
            "Epoch 44/100\n",
            "1/1 [==============================] - 0s 12ms/step - loss: 7.9414 - mae: 7.9414\n",
            "Epoch 45/100\n",
            "1/1 [==============================] - 0s 14ms/step - loss: 7.8089 - mae: 7.8089\n",
            "Epoch 46/100\n",
            "1/1 [==============================] - 0s 13ms/step - loss: 7.6764 - mae: 7.6764\n",
            "Epoch 47/100\n",
            "1/1 [==============================] - 0s 15ms/step - loss: 7.5439 - mae: 7.5439\n",
            "Epoch 48/100\n",
            "1/1 [==============================] - 0s 11ms/step - loss: 7.4114 - mae: 7.4114\n",
            "Epoch 49/100\n",
            "1/1 [==============================] - 0s 11ms/step - loss: 7.2789 - mae: 7.2789\n",
            "Epoch 50/100\n",
            "1/1 [==============================] - 0s 14ms/step - loss: 7.1464 - mae: 7.1464\n",
            "Epoch 51/100\n",
            "1/1 [==============================] - 0s 19ms/step - loss: 7.1250 - mae: 7.1250\n",
            "Epoch 52/100\n",
            "1/1 [==============================] - 0s 12ms/step - loss: 7.1194 - mae: 7.1194\n",
            "Epoch 53/100\n",
            "1/1 [==============================] - 0s 25ms/step - loss: 7.1138 - mae: 7.1138\n",
            "Epoch 54/100\n",
            "1/1 [==============================] - 0s 24ms/step - loss: 7.1081 - mae: 7.1081\n",
            "Epoch 55/100\n",
            "1/1 [==============================] - 0s 20ms/step - loss: 7.1025 - mae: 7.1025\n",
            "Epoch 56/100\n",
            "1/1 [==============================] - 0s 23ms/step - loss: 7.0969 - mae: 7.0969\n",
            "Epoch 57/100\n",
            "1/1 [==============================] - 0s 23ms/step - loss: 7.0912 - mae: 7.0912\n",
            "Epoch 58/100\n",
            "1/1 [==============================] - 0s 18ms/step - loss: 7.0856 - mae: 7.0856\n",
            "Epoch 59/100\n",
            "1/1 [==============================] - 0s 11ms/step - loss: 7.0800 - mae: 7.0800\n",
            "Epoch 60/100\n",
            "1/1 [==============================] - 0s 8ms/step - loss: 7.0744 - mae: 7.0744\n",
            "Epoch 61/100\n",
            "1/1 [==============================] - 0s 8ms/step - loss: 7.0688 - mae: 7.0688\n",
            "Epoch 62/100\n",
            "1/1 [==============================] - 0s 26ms/step - loss: 7.0631 - mae: 7.0631\n",
            "Epoch 63/100\n",
            "1/1 [==============================] - 0s 10ms/step - loss: 7.0575 - mae: 7.0575\n",
            "Epoch 64/100\n",
            "1/1 [==============================] - 0s 10ms/step - loss: 7.0519 - mae: 7.0519\n",
            "Epoch 65/100\n",
            "1/1 [==============================] - 0s 10ms/step - loss: 7.0463 - mae: 7.0463\n",
            "Epoch 66/100\n",
            "1/1 [==============================] - 0s 12ms/step - loss: 7.0406 - mae: 7.0406\n",
            "Epoch 67/100\n",
            "1/1 [==============================] - 0s 11ms/step - loss: 7.0350 - mae: 7.0350\n",
            "Epoch 68/100\n",
            "1/1 [==============================] - 0s 11ms/step - loss: 7.0294 - mae: 7.0294\n",
            "Epoch 69/100\n",
            "1/1 [==============================] - 0s 23ms/step - loss: 7.0238 - mae: 7.0238\n",
            "Epoch 70/100\n",
            "1/1 [==============================] - 0s 16ms/step - loss: 7.0181 - mae: 7.0181\n",
            "Epoch 71/100\n",
            "1/1 [==============================] - 0s 14ms/step - loss: 7.0125 - mae: 7.0125\n",
            "Epoch 72/100\n",
            "1/1 [==============================] - 0s 19ms/step - loss: 7.0069 - mae: 7.0069\n",
            "Epoch 73/100\n",
            "1/1 [==============================] - 0s 42ms/step - loss: 7.0013 - mae: 7.0013\n",
            "Epoch 74/100\n",
            "1/1 [==============================] - 0s 15ms/step - loss: 6.9956 - mae: 6.9956\n",
            "Epoch 75/100\n",
            "1/1 [==============================] - 0s 15ms/step - loss: 6.9900 - mae: 6.9900\n",
            "Epoch 76/100\n",
            "1/1 [==============================] - 0s 12ms/step - loss: 6.9844 - mae: 6.9844\n",
            "Epoch 77/100\n",
            "1/1 [==============================] - 0s 32ms/step - loss: 6.9788 - mae: 6.9788\n",
            "Epoch 78/100\n",
            "1/1 [==============================] - 0s 33ms/step - loss: 6.9731 - mae: 6.9731\n",
            "Epoch 79/100\n",
            "1/1 [==============================] - 0s 16ms/step - loss: 6.9675 - mae: 6.9675\n",
            "Epoch 80/100\n",
            "1/1 [==============================] - 0s 13ms/step - loss: 6.9619 - mae: 6.9619\n",
            "Epoch 81/100\n",
            "1/1 [==============================] - 0s 17ms/step - loss: 6.9563 - mae: 6.9563\n",
            "Epoch 82/100\n",
            "1/1 [==============================] - 0s 11ms/step - loss: 6.9506 - mae: 6.9506\n",
            "Epoch 83/100\n",
            "1/1 [==============================] - 0s 23ms/step - loss: 6.9450 - mae: 6.9450\n",
            "Epoch 84/100\n",
            "1/1 [==============================] - 0s 14ms/step - loss: 6.9394 - mae: 6.9394\n",
            "Epoch 85/100\n",
            "1/1 [==============================] - 0s 9ms/step - loss: 6.9338 - mae: 6.9338\n",
            "Epoch 86/100\n",
            "1/1 [==============================] - 0s 10ms/step - loss: 6.9281 - mae: 6.9281\n",
            "Epoch 87/100\n",
            "1/1 [==============================] - 0s 12ms/step - loss: 6.9225 - mae: 6.9225\n",
            "Epoch 88/100\n",
            "1/1 [==============================] - 0s 9ms/step - loss: 6.9169 - mae: 6.9169\n",
            "Epoch 89/100\n",
            "1/1 [==============================] - 0s 10ms/step - loss: 6.9113 - mae: 6.9113\n",
            "Epoch 90/100\n",
            "1/1 [==============================] - 0s 8ms/step - loss: 6.9056 - mae: 6.9056\n",
            "Epoch 91/100\n",
            "1/1 [==============================] - 0s 9ms/step - loss: 6.9000 - mae: 6.9000\n",
            "Epoch 92/100\n",
            "1/1 [==============================] - 0s 10ms/step - loss: 6.8944 - mae: 6.8944\n",
            "Epoch 93/100\n",
            "1/1 [==============================] - 0s 14ms/step - loss: 6.8888 - mae: 6.8888\n",
            "Epoch 94/100\n",
            "1/1 [==============================] - 0s 14ms/step - loss: 6.8831 - mae: 6.8831\n",
            "Epoch 95/100\n",
            "1/1 [==============================] - 0s 42ms/step - loss: 6.8775 - mae: 6.8775\n",
            "Epoch 96/100\n",
            "1/1 [==============================] - 0s 19ms/step - loss: 6.8719 - mae: 6.8719\n",
            "Epoch 97/100\n",
            "1/1 [==============================] - 0s 27ms/step - loss: 6.8663 - mae: 6.8663\n",
            "Epoch 98/100\n",
            "1/1 [==============================] - 0s 28ms/step - loss: 6.8606 - mae: 6.8606\n",
            "Epoch 99/100\n",
            "1/1 [==============================] - 0s 20ms/step - loss: 6.8550 - mae: 6.8550\n",
            "Epoch 100/100\n",
            "1/1 [==============================] - 0s 34ms/step - loss: 6.8494 - mae: 6.8494\n"
          ]
        },
        {
          "output_type": "execute_result",
          "data": {
            "text/plain": [
              "<keras.callbacks.History at 0x7f420d755d90>"
            ]
          },
          "metadata": {},
          "execution_count": 7
        }
      ]
    },
    {
      "cell_type": "code",
      "source": [
        "# Trying to predict, should be around 30\n",
        "model.predict([20.0])"
      ],
      "metadata": {
        "colab": {
          "base_uri": "https://localhost:8080/"
        },
        "id": "hNNHML9lCu2r",
        "outputId": "77a52b45-9fae-43c4-d7f5-9c9cb6e04940"
      },
      "id": "hNNHML9lCu2r",
      "execution_count": 8,
      "outputs": [
        {
          "output_type": "execute_result",
          "data": {
            "text/plain": [
              "array([[35.08137]], dtype=float32)"
            ]
          },
          "metadata": {},
          "execution_count": 8
        }
      ]
    },
    {
      "cell_type": "markdown",
      "source": [
        "**Evaluating and Visualization**"
      ],
      "metadata": {
        "id": "jegG3SKJVLZx"
      },
      "id": "jegG3SKJVLZx"
    },
    {
      "cell_type": "code",
      "source": [
        "X = np.arange(-100, 100, 4)\n",
        "y = X + 10\n",
        "X, y"
      ],
      "metadata": {
        "colab": {
          "base_uri": "https://localhost:8080/"
        },
        "id": "ItD2thj2VV53",
        "outputId": "2087b179-59b9-4342-a1a9-47f12d316da0"
      },
      "id": "ItD2thj2VV53",
      "execution_count": 9,
      "outputs": [
        {
          "output_type": "execute_result",
          "data": {
            "text/plain": [
              "(array([-100,  -96,  -92,  -88,  -84,  -80,  -76,  -72,  -68,  -64,  -60,\n",
              "         -56,  -52,  -48,  -44,  -40,  -36,  -32,  -28,  -24,  -20,  -16,\n",
              "         -12,   -8,   -4,    0,    4,    8,   12,   16,   20,   24,   28,\n",
              "          32,   36,   40,   44,   48,   52,   56,   60,   64,   68,   72,\n",
              "          76,   80,   84,   88,   92,   96]),\n",
              " array([-90, -86, -82, -78, -74, -70, -66, -62, -58, -54, -50, -46, -42,\n",
              "        -38, -34, -30, -26, -22, -18, -14, -10,  -6,  -2,   2,   6,  10,\n",
              "         14,  18,  22,  26,  30,  34,  38,  42,  46,  50,  54,  58,  62,\n",
              "         66,  70,  74,  78,  82,  86,  90,  94,  98, 102, 106]))"
            ]
          },
          "metadata": {},
          "execution_count": 9
        }
      ]
    },
    {
      "cell_type": "code",
      "source": [
        "train_set_len = int(0.8 * len(X)) # the test set is 80% of the data \n",
        "\n",
        "X_train = X[:train_set_len]\n",
        "y_train = y[:train_set_len]\n",
        "\n",
        "X_test = X[train_set_len:]\n",
        "y_test = y[train_set_len:]\n",
        "\n",
        "plt.scatter(X_train, y_train, c = 'red', label = 'Training data')\n",
        "plt.scatter(X_test, y_test, c = 'green', label = 'Testing data')\n",
        "plt.legend()"
      ],
      "metadata": {
        "colab": {
          "base_uri": "https://localhost:8080/",
          "height": 282
        },
        "id": "5j8JOww9WGQD",
        "outputId": "993c6ff1-1ec3-4c6e-d022-177970dac1d1"
      },
      "id": "5j8JOww9WGQD",
      "execution_count": 10,
      "outputs": [
        {
          "output_type": "execute_result",
          "data": {
            "text/plain": [
              "<matplotlib.legend.Legend at 0x7f420bf8ebd0>"
            ]
          },
          "metadata": {},
          "execution_count": 10
        },
        {
          "output_type": "display_data",
          "data": {
            "text/plain": [
              "<Figure size 432x288 with 1 Axes>"
            ],
            "image/png": "[encoded data removed]"
          },
          "metadata": {
            "needs_background": "light"
          }
        }
      ]
    },
    {
      "cell_type": "code",
      "source": [
        "model = tf.keras.Sequential ([\n",
        "  tf.keras.layers.Dense(1, input_shape = [1])\n",
        "])\n",
        "\n",
        "model.compile(loss = tf.keras.losses.mae,\n",
        "              optimizer=tf.keras.optimizers.SGD(),\n",
        "              metrics=[\"mae\"])\n",
        "\n",
        "model.fit(X_train, y_train, epochs=100, verbose=0)\n",
        "model.summary()"
      ],
      "metadata": {
        "colab": {
          "base_uri": "https://localhost:8080/"
        },
        "id": "JFchl4UdZ06o",
        "outputId": "b06e2a8c-a7f0-4d10-9488-f632c8f8b9a2"
      },
      "id": "JFchl4UdZ06o",
      "execution_count": 11,
      "outputs": [
        {
          "output_type": "stream",
          "name": "stdout",
          "text": [
            "Model: \"sequential_2\"\n",
            "_________________________________________________________________\n",
            " Layer (type)                Output Shape              Param #   \n",
            "=================================================================\n",
            " dense_2 (Dense)             (None, 1)                 2         \n",
            "                                                                 \n",
            "=================================================================\n",
            "Total params: 2\n",
            "Trainable params: 2\n",
            "Non-trainable params: 0\n",
            "_________________________________________________________________\n"
          ]
        }
      ]
    },
    {
      "cell_type": "code",
      "source": [
        "from tensorflow.keras.utils import plot_model\n",
        "\n",
        "plot_model(model, show_shapes=True)"
      ],
      "metadata": {
        "colab": {
          "base_uri": "https://localhost:8080/",
          "height": 201
        },
        "id": "f432r1zQbb-c",
        "outputId": "6b7bde5b-be31-4560-b43e-979800c83ce0"
      },
      "id": "f432r1zQbb-c",
      "execution_count": 12,
      "outputs": [
        {
          "output_type": "execute_result",
          "data": {
            "text/plain": [
              "<IPython.core.display.Image object>"
            ],
            "image/png": "[encoded data removed]"
          },
          "metadata": {},
          "execution_count": 12
        }
      ]
    },
    {
      "cell_type": "markdown",
      "source": [
        "**Predictions**"
      ],
      "metadata": {
        "id": "DY_MO_N-byIr"
      },
      "id": "DY_MO_N-byIr"
    },
    {
      "cell_type": "code",
      "source": [
        "y_preds = model.predict(X_test)\n",
        "\n",
        "plt.scatter(X_train, y_train, c = 'red', label = 'Training data')\n",
        "plt.scatter(X_test, y_test, c = 'green', label = 'Testing data')\n",
        "plt.scatter(X_test, y_preds, c = 'blue', label = 'Predictions')\n",
        "plt.legend()"
      ],
      "metadata": {
        "colab": {
          "base_uri": "https://localhost:8080/",
          "height": 282
        },
        "id": "5U4JmlgWbvg8",
        "outputId": "be2c3281-cf13-4170-b1af-79e9357afd14"
      },
      "id": "5U4JmlgWbvg8",
      "execution_count": 13,
      "outputs": [
        {
          "output_type": "execute_result",
          "data": {
            "text/plain": [
              "<matplotlib.legend.Legend at 0x7f420cd150d0>"
            ]
          },
          "metadata": {},
          "execution_count": 13
        },
        {
          "output_type": "display_data",
          "data": {
            "text/plain": [
              "<Figure size 432x288 with 1 Axes>"
            ],
            "image/png": "[encoded data removed]"
          },
          "metadata": {
            "needs_background": "light"
          }
        }
      ]
    },
    {
      "cell_type": "markdown",
      "id": "9014e722",
      "metadata": {
        "id": "9014e722"
      },
      "source": [
        "#### 1. Create your own regression dataset (or make the one we created in \"Create data to view and fit\" bigger) and build fit a model to it."
      ]
    },
    {
      "cell_type": "code",
      "source": [
        "def func(X):\n",
        "  return X**2 + 10\n",
        "\n",
        "X = np.arange(-20, 21, 1)\n",
        "y = func(X)\n",
        "print(X)\n",
        "print(y)\n",
        "plt.scatter(X, y)"
      ],
      "metadata": {
        "id": "MXPHtpeu6ueI",
        "colab": {
          "base_uri": "https://localhost:8080/",
          "height": 387
        },
        "outputId": "09c7ba86-081c-4eeb-847e-16ace280962b"
      },
      "id": "MXPHtpeu6ueI",
      "execution_count": 14,
      "outputs": [
        {
          "output_type": "stream",
          "name": "stdout",
          "text": [
            "[-20 -19 -18 -17 -16 -15 -14 -13 -12 -11 -10  -9  -8  -7  -6  -5  -4  -3\n",
            "  -2  -1   0   1   2   3   4   5   6   7   8   9  10  11  12  13  14  15\n",
            "  16  17  18  19  20]\n",
            "[410 371 334 299 266 235 206 179 154 131 110  91  74  59  46  35  26  19\n",
            "  14  11  10  11  14  19  26  35  46  59  74  91 110 131 154 179 206 235\n",
            " 266 299 334 371 410]\n"
          ]
        },
        {
          "output_type": "execute_result",
          "data": {
            "text/plain": [
              "<matplotlib.collections.PathCollection at 0x7f420d5d6310>"
            ]
          },
          "metadata": {},
          "execution_count": 14
        },
        {
          "output_type": "display_data",
          "data": {
            "text/plain": [
              "<Figure size 432x288 with 1 Axes>"
            ],
            "image/png": "[encoded data removed]"
          },
          "metadata": {
            "needs_background": "light"
          }
        }
      ]
    },
    {
      "cell_type": "code",
      "source": [
        "train_set_len = int(0.8 * len(X)) # the test set is 80% of the data \n",
        "\n",
        "\n",
        "X_train = X[:train_set_len]\n",
        "y_train = y[:train_set_len]\n",
        "\n",
        "X_test = X[train_set_len:]\n",
        "y_test = y[train_set_len:]\n",
        "\n",
        "\n",
        "plt.scatter(X_train, y_train, c = 'red', label = 'Training data')\n",
        "plt.scatter(X_test, y_test, c = 'green', label = 'Testing data')\n",
        "plt.legend()"
      ],
      "metadata": {
        "colab": {
          "base_uri": "https://localhost:8080/",
          "height": 282
        },
        "id": "wM-hrXwvf7b6",
        "outputId": "b1609b44-0f1f-4acb-bb45-5401c3616432"
      },
      "id": "wM-hrXwvf7b6",
      "execution_count": 15,
      "outputs": [
        {
          "output_type": "execute_result",
          "data": {
            "text/plain": [
              "<matplotlib.legend.Legend at 0x7f4294805e90>"
            ]
          },
          "metadata": {},
          "execution_count": 15
        },
        {
          "output_type": "display_data",
          "data": {
            "text/plain": [
              "<Figure size 432x288 with 1 Axes>"
            ],
            "image/png": "[encoded data removed]"
          },
          "metadata": {
            "needs_background": "light"
          }
        }
      ]
    },
    {
      "cell_type": "code",
      "source": [
        "model = tf.keras.Sequential ([\n",
        "  tf.keras.layers.Dense(1, input_shape = [1])\n",
        "])\n",
        "\n",
        "model.compile(loss = tf.keras.losses.MeanSquaredLogarithmicError(),\n",
        "              optimizer=tf.keras.optimizers.Adam(learning_rate = 0.01),\n",
        "              metrics=[\"mae\",\"accuracy\"])\n",
        "\n",
        "model.fit(X_train, y_train, epochs=2000, verbose=0)\n",
        "model.summary()"
      ],
      "metadata": {
        "colab": {
          "base_uri": "https://localhost:8080/"
        },
        "id": "droB3s0thRJO",
        "outputId": "6d14d18c-f60d-4c68-b3fe-a0cec69cb6cb"
      },
      "id": "droB3s0thRJO",
      "execution_count": 16,
      "outputs": [
        {
          "output_type": "stream",
          "name": "stdout",
          "text": [
            "Model: \"sequential_3\"\n",
            "_________________________________________________________________\n",
            " Layer (type)                Output Shape              Param #   \n",
            "=================================================================\n",
            " dense_3 (Dense)             (None, 1)                 2         \n",
            "                                                                 \n",
            "=================================================================\n",
            "Total params: 2\n",
            "Trainable params: 2\n",
            "Non-trainable params: 0\n",
            "_________________________________________________________________\n"
          ]
        }
      ]
    },
    {
      "cell_type": "code",
      "source": [
        "y_preds = model.predict(X_test)\n",
        "print(y_preds)\n",
        "print(X_test)\n",
        "\n",
        "plt.scatter(X_train, y_train, c = 'red', label = 'Training data')\n",
        "plt.scatter(X_test, y_test, c = 'green', label = 'Testing data')\n",
        "plt.scatter(X_test, y_preds, c = 'blue', label = 'Predictions')\n",
        "plt.legend()"
      ],
      "metadata": {
        "colab": {
          "base_uri": "https://localhost:8080/",
          "height": 456
        },
        "id": "CxiqxR3EhsXO",
        "outputId": "afae006b-f10e-4f48-f0f0-42879c43ced2"
      },
      "id": "CxiqxR3EhsXO",
      "execution_count": 17,
      "outputs": [
        {
          "output_type": "stream",
          "name": "stdout",
          "text": [
            "[[ -60.318794]\n",
            " [ -65.78387 ]\n",
            " [ -71.24895 ]\n",
            " [ -76.71403 ]\n",
            " [ -82.1791  ]\n",
            " [ -87.64417 ]\n",
            " [ -93.10925 ]\n",
            " [ -98.57433 ]\n",
            " [-104.039406]]\n",
            "[12 13 14 15 16 17 18 19 20]\n"
          ]
        },
        {
          "output_type": "execute_result",
          "data": {
            "text/plain": [
              "<matplotlib.legend.Legend at 0x7f4211eb7bd0>"
            ]
          },
          "metadata": {},
          "execution_count": 17
        },
        {
          "output_type": "display_data",
          "data": {
            "text/plain": [
              "<Figure size 432x288 with 1 Axes>"
            ],
            "image/png": "[encoded data removed]"
          },
          "metadata": {
            "needs_background": "light"
          }
        }
      ]
    },
    {
      "cell_type": "markdown",
      "id": "75058f31",
      "metadata": {
        "id": "75058f31"
      },
      "source": [
        "#### 2. Try building a neural network with 4 Dense layers and fitting it to your own regression dataset, how does it perform?"
      ]
    },
    {
      "cell_type": "code",
      "execution_count": 18,
      "id": "085a341e",
      "metadata": {
        "id": "085a341e",
        "colab": {
          "base_uri": "https://localhost:8080/"
        },
        "outputId": "bb50032a-2e91-4b3e-8614-ba57ac9ae48a"
      },
      "outputs": [
        {
          "output_type": "stream",
          "name": "stdout",
          "text": [
            "Model: \"sequential_4\"\n",
            "_________________________________________________________________\n",
            " Layer (type)                Output Shape              Param #   \n",
            "=================================================================\n",
            " dense_4 (Dense)             (None, 1)                 2         \n",
            "                                                                 \n",
            " dense_5 (Dense)             (None, 10)                20        \n",
            "                                                                 \n",
            " dense_6 (Dense)             (None, 100)               1100      \n",
            "                                                                 \n",
            " dense_7 (Dense)             (None, 1)                 101       \n",
            "                                                                 \n",
            "=================================================================\n",
            "Total params: 1,223\n",
            "Trainable params: 1,223\n",
            "Non-trainable params: 0\n",
            "_________________________________________________________________\n"
          ]
        }
      ],
      "source": [
        "model = tf.keras.Sequential ([\n",
        "  tf.keras.layers.Dense(1, input_shape = [1]),\n",
        "  tf.keras.layers.Dense(10, activation = \"relu\"),\n",
        "  tf.keras.layers.Dense(100, activation = \"relu\"),\n",
        "  tf.keras.layers.Dense(1, activation = \"relu\")\n",
        "])\n",
        "\n",
        "model.compile(loss = tf.keras.losses.MeanSquaredLogarithmicError(),\n",
        "              optimizer=tf.keras.optimizers.Adam(learning_rate = 0.01),\n",
        "              metrics=[\"mae\",\"accuracy\"])\n",
        "\n",
        "model.fit(X_train, y_train, epochs=2000, verbose=0)\n",
        "model.summary()"
      ]
    },
    {
      "cell_type": "code",
      "source": [
        "y_preds = model.predict(X_test)\n",
        "print(y_preds)\n",
        "print(X_test)\n",
        "\n",
        "plt.scatter(X_train, y_train, c = 'red', label = 'Training data')\n",
        "plt.scatter(X_test, y_test, c = 'green', label = 'Testing data')\n",
        "plt.scatter(X_test, y_preds, c = 'blue', label = 'Predictions')\n",
        "plt.legend()"
      ],
      "metadata": {
        "colab": {
          "base_uri": "https://localhost:8080/",
          "height": 493
        },
        "id": "-xhG3yydqjvS",
        "outputId": "76631108-514a-47f4-965c-97392012d1e6"
      },
      "id": "-xhG3yydqjvS",
      "execution_count": 19,
      "outputs": [
        {
          "output_type": "stream",
          "name": "stdout",
          "text": [
            "WARNING:tensorflow:5 out of the last 5 calls to <function Model.make_predict_function.<locals>.predict_function at 0x7f420cd2a710> triggered tf.function retracing. Tracing is expensive and the excessive number of tracings could be due to (1) creating @tf.function repeatedly in a loop, (2) passing tensors with different shapes, (3) passing Python objects instead of tensors. For (1), please define your @tf.function outside of the loop. For (2), @tf.function has experimental_relax_shapes=True option that relaxes argument shapes that can avoid unnecessary retracing. For (3), please refer to https://www.tensorflow.org/guide/function#controlling_retracing and https://www.tensorflow.org/api_docs/python/tf/function for  more details.\n",
            "[[136.05336]\n",
            " [146.93233]\n",
            " [157.81134]\n",
            " [168.6903 ]\n",
            " [179.56929]\n",
            " [190.44829]\n",
            " [201.32727]\n",
            " [212.20625]\n",
            " [223.08524]]\n",
            "[12 13 14 15 16 17 18 19 20]\n"
          ]
        },
        {
          "output_type": "execute_result",
          "data": {
            "text/plain": [
              "<matplotlib.legend.Legend at 0x7f420cc78490>"
            ]
          },
          "metadata": {},
          "execution_count": 19
        },
        {
          "output_type": "display_data",
          "data": {
            "text/plain": [
              "<Figure size 432x288 with 1 Axes>"
            ],
            "image/png": "[encoded data removed]"
          },
          "metadata": {
            "needs_background": "light"
          }
        }
      ]
    },
    {
      "cell_type": "markdown",
      "id": "b71cca1f",
      "metadata": {
        "id": "b71cca1f"
      },
      "source": [
        "#### 3. Try and improve the results we got on the insurance dataset, some things you might want to try include:\n",
        "  * Building a larger model (how does one with 4 dense layers go?).\n",
        "  * Increasing the number of units in each layer.\n",
        "  * Lookup the documentation of [Adam](https://www.tensorflow.org/api_docs/python/tf/keras/optimizers/Adam) and find out what the first parameter is, what happens if you increase it by 10x?\n",
        "  * What happens if you train for longer (say 300 epochs instead of 200)? "
      ]
    },
    {
      "cell_type": "code",
      "execution_count": 20,
      "id": "ffcf5774",
      "metadata": {
        "id": "ffcf5774",
        "colab": {
          "base_uri": "https://localhost:8080/"
        },
        "outputId": "97280b16-ff9c-455e-b281-4270040d8271"
      },
      "outputs": [
        {
          "output_type": "stream",
          "name": "stdout",
          "text": [
            "Model: \"sequential_5\"\n",
            "_________________________________________________________________\n",
            " Layer (type)                Output Shape              Param #   \n",
            "=================================================================\n",
            " dense_8 (Dense)             (None, 1)                 2         \n",
            "                                                                 \n",
            " dense_9 (Dense)             (None, 100)               200       \n",
            "                                                                 \n",
            " dense_10 (Dense)            (None, 10)                1010      \n",
            "                                                                 \n",
            " dense_11 (Dense)            (None, 1)                 11        \n",
            "                                                                 \n",
            "=================================================================\n",
            "Total params: 1,223\n",
            "Trainable params: 1,223\n",
            "Non-trainable params: 0\n",
            "_________________________________________________________________\n"
          ]
        }
      ],
      "source": [
        "model = tf.keras.Sequential ([\n",
        "  tf.keras.layers.Dense(1, input_shape = [1]),\n",
        "  tf.keras.layers.Dense(100, activation = \"relu\"),  # changed hidden layers\n",
        "  tf.keras.layers.Dense(10, activation = \"relu\"),\n",
        "  tf.keras.layers.Dense(1, activation = \"relu\")\n",
        "])\n",
        "\n",
        "model.compile(loss = tf.keras.losses.MeanSquaredLogarithmicError(),      \n",
        "              optimizer=tf.keras.optimizers.Adam(learning_rate = 0.01),  # learning_rate 10x\n",
        "              metrics=[\"mae\",\"accuracy\"])\n",
        "\n",
        "model.fit(X_train, y_train, epochs=5000, verbose=0)   #  + epochs\n",
        "model.summary()"
      ]
    },
    {
      "cell_type": "code",
      "source": [
        "y_preds = model.predict(X_test)\n",
        "print(y_preds)\n",
        "print(X_test)\n",
        "\n",
        "plt.scatter(X_train, y_train, c = 'red', label = 'Training data')\n",
        "plt.scatter(X_test, y_test, c = 'green', label = 'Testing data')\n",
        "plt.scatter(X_test, y_preds, c = 'blue', label = 'Predictions')\n",
        "plt.legend()"
      ],
      "metadata": {
        "colab": {
          "base_uri": "https://localhost:8080/",
          "height": 493
        },
        "id": "FFYfnd5cxiG4",
        "outputId": "6b6bcca2-0809-416d-80b6-af7f07887a26"
      },
      "id": "FFYfnd5cxiG4",
      "execution_count": 21,
      "outputs": [
        {
          "output_type": "stream",
          "name": "stdout",
          "text": [
            "WARNING:tensorflow:6 out of the last 6 calls to <function Model.make_predict_function.<locals>.predict_function at 0x7f420cafeb90> triggered tf.function retracing. Tracing is expensive and the excessive number of tracings could be due to (1) creating @tf.function repeatedly in a loop, (2) passing tensors with different shapes, (3) passing Python objects instead of tensors. For (1), please define your @tf.function outside of the loop. For (2), @tf.function has experimental_relax_shapes=True option that relaxes argument shapes that can avoid unnecessary retracing. For (3), please refer to https://www.tensorflow.org/guide/function#controlling_retracing and https://www.tensorflow.org/api_docs/python/tf/function for  more details.\n",
            "[[145.26979]\n",
            " [162.73189]\n",
            " [180.19405]\n",
            " [197.65617]\n",
            " [215.11943]\n",
            " [232.58382]\n",
            " [250.04825]\n",
            " [267.51266]\n",
            " [284.97708]]\n",
            "[12 13 14 15 16 17 18 19 20]\n"
          ]
        },
        {
          "output_type": "execute_result",
          "data": {
            "text/plain": [
              "<matplotlib.legend.Legend at 0x7f420c9c6190>"
            ]
          },
          "metadata": {},
          "execution_count": 21
        },
        {
          "output_type": "display_data",
          "data": {
            "text/plain": [
              "<Figure size 432x288 with 1 Axes>"
            ],
            "image/png": "[encoded data removed]"
          },
          "metadata": {
            "needs_background": "light"
          }
        }
      ]
    },
    {
      "cell_type": "code",
      "source": [
        "model.evaluate(X_test, y_test)"
      ],
      "metadata": {
        "colab": {
          "base_uri": "https://localhost:8080/"
        },
        "id": "9BrTutO02VDq",
        "outputId": "32210d19-4179-4b6e-c614-15f475b6e8fe"
      },
      "id": "9BrTutO02VDq",
      "execution_count": 22,
      "outputs": [
        {
          "output_type": "stream",
          "name": "stdout",
          "text": [
            "1/1 [==============================] - 0s 201ms/step - loss: 0.0542 - mae: 57.5452 - accuracy: 0.0000e+00\n"
          ]
        },
        {
          "output_type": "execute_result",
          "data": {
            "text/plain": [
              "[0.05423207953572273, 57.54520797729492, 0.0]"
            ]
          },
          "metadata": {},
          "execution_count": 22
        }
      ]
    },
    {
      "cell_type": "markdown",
      "id": "0320e612",
      "metadata": {
        "id": "0320e612"
      },
      "source": [
        "#### 4. Import the [Boston pricing dataset](https://www.tensorflow.org/api_docs/python/tf/keras/datasets/boston_housing/load_data) from TensorFlow [`tf.keras.datasets`](https://www.tensorflow.org/api_docs/python/tf/keras/datasets) and model it."
      ]
    },
    {
      "cell_type": "code",
      "execution_count": 23,
      "id": "7227dff1",
      "metadata": {
        "id": "7227dff1"
      },
      "outputs": [],
      "source": [
        "(x_train, y_train), (x_test, y_test) = tf.keras.datasets.boston_housing.load_data(\n",
        "    path='boston_housing.npz', test_split=0.2, seed=113\n",
        ")"
      ]
    },
    {
      "cell_type": "code",
      "source": [
        "x_train.shape, y_train.shape"
      ],
      "metadata": {
        "colab": {
          "base_uri": "https://localhost:8080/"
        },
        "id": "RgB8Zbn7-ggL",
        "outputId": "c94056f0-a418-4526-a638-98a195bffbbf"
      },
      "id": "RgB8Zbn7-ggL",
      "execution_count": 24,
      "outputs": [
        {
          "output_type": "execute_result",
          "data": {
            "text/plain": [
              "((404, 13), (404,))"
            ]
          },
          "metadata": {},
          "execution_count": 24
        }
      ]
    },
    {
      "cell_type": "code",
      "source": [
        "x_test.shape, y_test.shape"
      ],
      "metadata": {
        "colab": {
          "base_uri": "https://localhost:8080/"
        },
        "id": "F_eZUOU4B6gQ",
        "outputId": "22df1f75-05a1-49fa-9b76-f843adad17fa"
      },
      "id": "F_eZUOU4B6gQ",
      "execution_count": 25,
      "outputs": [
        {
          "output_type": "execute_result",
          "data": {
            "text/plain": [
              "((102, 13), (102,))"
            ]
          },
          "metadata": {},
          "execution_count": 25
        }
      ]
    },
    {
      "cell_type": "markdown",
      "source": [
        "Visualizing the data (x_train)"
      ],
      "metadata": {
        "id": "9iAvXrqTEFL4"
      },
      "id": "9iAvXrqTEFL4"
    },
    {
      "cell_type": "code",
      "source": [
        "import pandas as pd\n",
        "\n",
        "pd.DataFrame (x_train).head()"
      ],
      "metadata": {
        "colab": {
          "base_uri": "https://localhost:8080/",
          "height": 206
        },
        "id": "KvqeMrIU8lsZ",
        "outputId": "ee074faa-8988-49ca-b91f-d1f06179376b"
      },
      "id": "KvqeMrIU8lsZ",
      "execution_count": 26,
      "outputs": [
        {
          "output_type": "execute_result",
          "data": {
            "text/plain": [
              "        0     1      2    3      4      5      6       7     8      9     10  \\\n",
              "0  1.23247   0.0   8.14  0.0  0.538  6.142   91.7  3.9769   4.0  307.0  21.0   \n",
              "1  0.02177  82.5   2.03  0.0  0.415  7.610   15.7  6.2700   2.0  348.0  14.7   \n",
              "2  4.89822   0.0  18.10  0.0  0.631  4.970  100.0  1.3325  24.0  666.0  20.2   \n",
              "3  0.03961   0.0   5.19  0.0  0.515  6.037   34.5  5.9853   5.0  224.0  20.2   \n",
              "4  3.69311   0.0  18.10  0.0  0.713  6.376   88.4  2.5671  24.0  666.0  20.2   \n",
              "\n",
              "       11     12  \n",
              "0  396.90  18.72  \n",
              "1  395.38   3.11  \n",
              "2  375.52   3.26  \n",
              "3  396.90   8.01  \n",
              "4  391.43  14.65  "
            ],
            "text/html": [
              "\n",
              "  <div id=\"df-32ae434a-c0fb-4e0e-93c8-10305419bd94\">\n",
              "    <div class=\"colab-df-container\">\n",
              "      <div>\n",
              "<style scoped>\n",
              "    .dataframe tbody tr th:only-of-type {\n",
              "        vertical-align: middle;\n",
              "    }\n",
              "\n",
              "    .dataframe tbody tr th {\n",
              "        vertical-align: top;\n",
              "    }\n",
              "\n",
              "    .dataframe thead th {\n",
              "        text-align: right;\n",
              "    }\n",
              "</style>\n",
              "<table border=\"1\" class=\"dataframe\">\n",
              "  <thead>\n",
              "    <tr style=\"text-align: right;\">\n",
              "      <th></th>\n",
              "      <th>0</th>\n",
              "      <th>1</th>\n",
              "      <th>2</th>\n",
              "      <th>3</th>\n",
              "      <th>4</th>\n",
              "      <th>5</th>\n",
              "      <th>6</th>\n",
              "      <th>7</th>\n",
              "      <th>8</th>\n",
              "      <th>9</th>\n",
              "      <th>10</th>\n",
              "      <th>11</th>\n",
              "      <th>12</th>\n",
              "    </tr>\n",
              "  </thead>\n",
              "  <tbody>\n",
              "    <tr>\n",
              "      <th>0</th>\n",
              "      <td>1.23247</td>\n",
              "      <td>0.0</td>\n",
              "      <td>8.14</td>\n",
              "      <td>0.0</td>\n",
              "      <td>0.538</td>\n",
              "      <td>6.142</td>\n",
              "      <td>91.7</td>\n",
              "      <td>3.9769</td>\n",
              "      <td>4.0</td>\n",
              "      <td>307.0</td>\n",
              "      <td>21.0</td>\n",
              "      <td>396.90</td>\n",
              "      <td>18.72</td>\n",
              "    </tr>\n",
              "    <tr>\n",
              "      <th>1</th>\n",
              "      <td>0.02177</td>\n",
              "      <td>82.5</td>\n",
              "      <td>2.03</td>\n",
              "      <td>0.0</td>\n",
              "      <td>0.415</td>\n",
              "      <td>7.610</td>\n",
              "      <td>15.7</td>\n",
              "      <td>6.2700</td>\n",
              "      <td>2.0</td>\n",
              "      <td>348.0</td>\n",
              "      <td>14.7</td>\n",
              "      <td>395.38</td>\n",
              "      <td>3.11</td>\n",
              "    </tr>\n",
              "    <tr>\n",
              "      <th>2</th>\n",
              "      <td>4.89822</td>\n",
              "      <td>0.0</td>\n",
              "      <td>18.10</td>\n",
              "      <td>0.0</td>\n",
              "      <td>0.631</td>\n",
              "      <td>4.970</td>\n",
              "      <td>100.0</td>\n",
              "      <td>1.3325</td>\n",
              "      <td>24.0</td>\n",
              "      <td>666.0</td>\n",
              "      <td>20.2</td>\n",
              "      <td>375.52</td>\n",
              "      <td>3.26</td>\n",
              "    </tr>\n",
              "    <tr>\n",
              "      <th>3</th>\n",
              "      <td>0.03961</td>\n",
              "      <td>0.0</td>\n",
              "      <td>5.19</td>\n",
              "      <td>0.0</td>\n",
              "      <td>0.515</td>\n",
              "      <td>6.037</td>\n",
              "      <td>34.5</td>\n",
              "      <td>5.9853</td>\n",
              "      <td>5.0</td>\n",
              "      <td>224.0</td>\n",
              "      <td>20.2</td>\n",
              "      <td>396.90</td>\n",
              "      <td>8.01</td>\n",
              "    </tr>\n",
              "    <tr>\n",
              "      <th>4</th>\n",
              "      <td>3.69311</td>\n",
              "      <td>0.0</td>\n",
              "      <td>18.10</td>\n",
              "      <td>0.0</td>\n",
              "      <td>0.713</td>\n",
              "      <td>6.376</td>\n",
              "      <td>88.4</td>\n",
              "      <td>2.5671</td>\n",
              "      <td>24.0</td>\n",
              "      <td>666.0</td>\n",
              "      <td>20.2</td>\n",
              "      <td>391.43</td>\n",
              "      <td>14.65</td>\n",
              "    </tr>\n",
              "  </tbody>\n",
              "</table>\n",
              "</div>\n",
              "      <button class=\"colab-df-convert\" onclick=\"convertToInteractive('df-32ae434a-c0fb-4e0e-93c8-10305419bd94')\"\n",
              "              title=\"Convert this dataframe to an interactive table.\"\n",
              "              style=\"display:none;\">\n",
              "        \n",
              "  <svg xmlns=\"http://www.w3.org/2000/svg\" height=\"24px\"viewBox=\"0 0 24 24\"\n",
              "       width=\"24px\">\n",
              "    <path d=\"M0 0h24v24H0V0z\" fill=\"none\"/>\n",
              "    <path d=\"M18.56 5.44l.94 2.06.94-2.06 2.06-.94-2.06-.94-.94-2.06-.94 2.06-2.06.94zm-11 1L8.5 8.5l.94-2.06 2.06-.94-2.06-.94L8.5 2.5l-.94 2.06-2.06.94zm10 10l.94 2.06.94-2.06 2.06-.94-2.06-.94-.94-2.06-.94 2.06-2.06.94z\"/><path d=\"M17.41 7.96l-1.37-1.37c-.4-.4-.92-.59-1.43-.59-.52 0-1.04.2-1.43.59L10.3 9.45l-7.72 7.72c-.78.78-.78 2.05 0 2.83L4 21.41c.39.39.9.59 1.41.59.51 0 1.02-.2 1.41-.59l7.78-7.78 2.81-2.81c.8-.78.8-2.07 0-2.86zM5.41 20L4 18.59l7.72-7.72 1.47 1.35L5.41 20z\"/>\n",
              "  </svg>\n",
              "      </button>\n",
              "      \n",
              "  <style>\n",
              "    .colab-df-container {\n",
              "      display:flex;\n",
              "      flex-wrap:wrap;\n",
              "      gap: 12px;\n",
              "    }\n",
              "\n",
              "    .colab-df-convert {\n",
              "      background-color: #E8F0FE;\n",
              "      border: none;\n",
              "      border-radius: 50%;\n",
              "      cursor: pointer;\n",
              "      display: none;\n",
              "      fill: #1967D2;\n",
              "      height: 32px;\n",
              "      padding: 0 0 0 0;\n",
              "      width: 32px;\n",
              "    }\n",
              "\n",
              "    .colab-df-convert:hover {\n",
              "      background-color: #E2EBFA;\n",
              "      box-shadow: 0px 1px 2px rgba(60, 64, 67, 0.3), 0px 1px 3px 1px rgba(60, 64, 67, 0.15);\n",
              "      fill: #174EA6;\n",
              "    }\n",
              "\n",
              "    [theme=dark] .colab-df-convert {\n",
              "      background-color: #3B4455;\n",
              "      fill: #D2E3FC;\n",
              "    }\n",
              "\n",
              "    [theme=dark] .colab-df-convert:hover {\n",
              "      background-color: #434B5C;\n",
              "      box-shadow: 0px 1px 3px 1px rgba(0, 0, 0, 0.15);\n",
              "      filter: drop-shadow(0px 1px 2px rgba(0, 0, 0, 0.3));\n",
              "      fill: #FFFFFF;\n",
              "    }\n",
              "  </style>\n",
              "\n",
              "      <script>\n",
              "        const buttonEl =\n",
              "          document.querySelector('#df-32ae434a-c0fb-4e0e-93c8-10305419bd94 button.colab-df-convert');\n",
              "        buttonEl.style.display =\n",
              "          google.colab.kernel.accessAllowed ? 'block' : 'none';\n",
              "\n",
              "        async function convertToInteractive(key) {\n",
              "          const element = document.querySelector('#df-32ae434a-c0fb-4e0e-93c8-10305419bd94');\n",
              "          const dataTable =\n",
              "            await google.colab.kernel.invokeFunction('convertToInteractive',\n",
              "                                                     [key], {});\n",
              "          if (!dataTable) return;\n",
              "\n",
              "          const docLinkHtml = 'Like what you see? Visit the ' +\n",
              "            '<a target=\"_blank\" href=https://colab.research.google.com/notebooks/data_table.ipynb>data table notebook</a>'\n",
              "            + ' to learn more about interactive tables.';\n",
              "          element.innerHTML = '';\n",
              "          dataTable['output_type'] = 'display_data';\n",
              "          await google.colab.output.renderOutput(dataTable, element);\n",
              "          const docLink = document.createElement('div');\n",
              "          docLink.innerHTML = docLinkHtml;\n",
              "          element.appendChild(docLink);\n",
              "        }\n",
              "      </script>\n",
              "    </div>\n",
              "  </div>\n",
              "  "
            ]
          },
          "metadata": {},
          "execution_count": 26
        }
      ]
    },
    {
      "cell_type": "markdown",
      "source": [
        "Creating model"
      ],
      "metadata": {
        "id": "soRqsZEFEKDZ"
      },
      "id": "soRqsZEFEKDZ"
    },
    {
      "cell_type": "code",
      "source": [
        "tf.random.set_seed(42)\n",
        "\n",
        "model = tf.keras.Sequential ([\n",
        "  tf.keras.layers.Dense(100),\n",
        "  tf.keras.layers.Dense(10),\n",
        "  tf.keras.layers.Dense(1),\n",
        "])\n",
        "\n",
        "model.compile( loss = tf.keras.losses.mae,\n",
        "              optimizer = tf.keras.optimizers.Adam(),\n",
        "              metrics = ['mae']\n",
        ")\n",
        "\n",
        "history1 = model.fit(x_train, y_train, epochs = 100, verbose = 0)"
      ],
      "metadata": {
        "id": "e02i1M5aEN9J"
      },
      "id": "e02i1M5aEN9J",
      "execution_count": 27,
      "outputs": []
    },
    {
      "cell_type": "code",
      "source": [
        "model.evaluate(x_test, y_test)"
      ],
      "metadata": {
        "colab": {
          "base_uri": "https://localhost:8080/"
        },
        "id": "XUSkYoMSGCqk",
        "outputId": "9097a115-771d-4339-a7b0-e0fe9830789e"
      },
      "id": "XUSkYoMSGCqk",
      "execution_count": 28,
      "outputs": [
        {
          "output_type": "stream",
          "name": "stdout",
          "text": [
            "4/4 [==============================] - 0s 3ms/step - loss: 5.1132 - mae: 5.1132\n"
          ]
        },
        {
          "output_type": "execute_result",
          "data": {
            "text/plain": [
              "[5.113162994384766, 5.113162994384766]"
            ]
          },
          "metadata": {},
          "execution_count": 28
        }
      ]
    },
    {
      "cell_type": "code",
      "source": [
        "pd.DataFrame(history1.history).plot()\n",
        "plt.ylabel(\"loss\")\n",
        "plt.xlabel(\"epochs\");"
      ],
      "metadata": {
        "colab": {
          "base_uri": "https://localhost:8080/",
          "height": 279
        },
        "id": "pjl6KSxiIhso",
        "outputId": "e68f4d40-cf4f-4848-a4f2-0f508ed74cf5"
      },
      "id": "pjl6KSxiIhso",
      "execution_count": 29,
      "outputs": [
        {
          "output_type": "display_data",
          "data": {
            "text/plain": [
              "<Figure size 432x288 with 1 Axes>"
            ],
            "image/png": "[encoded data removed]"
          },
          "metadata": {
            "needs_background": "light"
          }
        }
      ]
    }
  ],
  "metadata": {
    "kernelspec": {
      "display_name": "Python 3 (ipykernel)",
      "language": "python",
      "name": "python3"
    },
    "language_info": {
      "codemirror_mode": {
        "name": "ipython",
        "version": 3
      },
      "file_extension": ".py",
      "mimetype": "text/x-python",
      "name": "python",
      "nbconvert_exporter": "python",
      "pygments_lexer": "ipython3",
      "version": "3.9.7"
    },
    "colab": {
      "name": "01_tf_regression.ipynb",
      "provenance": [],
      "collapsed_sections": []
    }
  },
  "nbformat": 4,
  "nbformat_minor": 5
}