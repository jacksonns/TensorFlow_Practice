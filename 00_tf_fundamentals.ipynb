{
 "cells": [
  {
   "cell_type": "markdown",
   "id": "fee625c9",
   "metadata": {},
   "source": [
    "# TensorFlow Fundamentals"
   ]
  },
  {
   "cell_type": "code",
   "execution_count": 46,
   "id": "6269621a",
   "metadata": {},
   "outputs": [
    {
     "name": "stdout",
     "output_type": "stream",
     "text": [
      "2.8.0\n"
     ]
    }
   ],
   "source": [
    "import tensorflow as tf\n",
    "import numpy as np\n",
    "print(tf.__version__)"
   ]
  },
  {
   "cell_type": "markdown",
   "id": "49508d9c",
   "metadata": {},
   "source": [
    "#### 1. Create a vector, scalar, matrix and tensor with values of your choosing using tf.constant()."
   ]
  },
  {
   "cell_type": "code",
   "execution_count": 9,
   "id": "26580856",
   "metadata": {},
   "outputs": [
    {
     "name": "stdout",
     "output_type": "stream",
     "text": [
      "Vector: tf.Tensor([1 2 3], shape=(3,), dtype=int32)\n",
      "Scalar: tf.Tensor(3, shape=(), dtype=int32)\n",
      "Matrix: tf.Tensor(\n",
      "[[1 2 3]\n",
      " [4 5 6]], shape=(2, 3), dtype=int32)\n"
     ]
    }
   ],
   "source": [
    "vector = tf.constant([1,2,3])\n",
    "print('Vector: ', end = \"\")\n",
    "print(vector)\n",
    "\n",
    "scalar = tf.constant(3)\n",
    "print('Scalar: ', end = \"\")\n",
    "print(scalar)\n",
    "\n",
    "matrix = tf.constant([[1,2,3],[4,5,6]])\n",
    "print('Matrix: ', end = \"\")\n",
    "print(matrix)"
   ]
  },
  {
   "cell_type": "markdown",
   "id": "d75e0cc3",
   "metadata": {},
   "source": [
    "#### 2. Find the shape, rank and size of the tensors you created in 1."
   ]
  },
  {
   "cell_type": "code",
   "execution_count": 14,
   "id": "f531120d",
   "metadata": {},
   "outputs": [
    {
     "name": "stdout",
     "output_type": "stream",
     "text": [
      "Vector => Shape: (3,); Rank: 1; Size: 3\n",
      "Scalar => Shape: (); Rank: 0; Size: 1\n",
      "Matrix => Shape: (2, 3); Rank: 2; Size: 6\n"
     ]
    }
   ],
   "source": [
    "print('Vector => Shape: {}; Rank: {}; Size: {}'.format(vector.shape, vector.ndim, tf.size(vector)))\n",
    "print('Scalar => Shape: {}; Rank: {}; Size: {}'.format(scalar.shape, scalar.ndim, tf.size(scalar)))\n",
    "print('Matrix => Shape: {}; Rank: {}; Size: {}'.format(matrix.shape, matrix.ndim, tf.size(matrix)))"
   ]
  },
  {
   "cell_type": "markdown",
   "id": "1616a4aa",
   "metadata": {},
   "source": [
    "#### 3. Create two tensors containing random values between 0 and 1 with shape [5, 300]."
   ]
  },
  {
   "cell_type": "code",
   "execution_count": 15,
   "id": "128e6746",
   "metadata": {},
   "outputs": [],
   "source": [
    "t1 = tf.random.uniform(shape = [5,300])\n",
    "t2 = tf.random.uniform(shape = [5,300])"
   ]
  },
  {
   "cell_type": "code",
   "execution_count": 18,
   "id": "f868e32b",
   "metadata": {},
   "outputs": [
    {
     "data": {
      "text/plain": [
       "(<tf.Tensor: shape=(5, 300), dtype=float32, numpy=\n",
       " array([[0.14536667, 0.9966215 , 0.59942234, ..., 0.08112013, 0.4435178 ,\n",
       "         0.1150738 ],\n",
       "        [0.76353574, 0.35006952, 0.9051237 , ..., 0.8912835 , 0.60403657,\n",
       "         0.19606519],\n",
       "        [0.46679473, 0.48350704, 0.24154925, ..., 0.863871  , 0.23964131,\n",
       "         0.29052174],\n",
       "        [0.06152213, 0.9110396 , 0.21887398, ..., 0.08912432, 0.51317954,\n",
       "         0.3708626 ],\n",
       "        [0.13824606, 0.5809865 , 0.55184746, ..., 0.8211254 , 0.0284127 ,\n",
       "         0.5309553 ]], dtype=float32)>,\n",
       " <tf.Tensor: shape=(5, 300), dtype=float32, numpy=\n",
       " array([[0.7006432 , 0.6101227 , 0.3691094 , ..., 0.25240707, 0.1267538 ,\n",
       "         0.41963685],\n",
       "        [0.4000703 , 0.81790304, 0.7141099 , ..., 0.42547143, 0.9388435 ,\n",
       "         0.6888616 ],\n",
       "        [0.9884585 , 0.5901401 , 0.6801081 , ..., 0.9355675 , 0.42212164,\n",
       "         0.0743643 ],\n",
       "        [0.6597357 , 0.8458383 , 0.65954745, ..., 0.57489896, 0.28047025,\n",
       "         0.07709336],\n",
       "        [0.8494847 , 0.5954375 , 0.3429495 , ..., 0.71937644, 0.17025828,\n",
       "         0.76417994]], dtype=float32)>)"
      ]
     },
     "execution_count": 18,
     "metadata": {},
     "output_type": "execute_result"
    }
   ],
   "source": [
    "t1, t2"
   ]
  },
  {
   "cell_type": "markdown",
   "id": "abf33dd5",
   "metadata": {},
   "source": [
    "#### 4. Multiply the two tensors you created in 3 using matrix multiplication."
   ]
  },
  {
   "cell_type": "code",
   "execution_count": 21,
   "id": "b9e1d2f9",
   "metadata": {},
   "outputs": [
    {
     "data": {
      "text/plain": [
       "<tf.Tensor: shape=(5, 5), dtype=float32, numpy=\n",
       "array([[75.93191 , 81.30072 , 78.46893 , 82.85084 , 77.08854 ],\n",
       "       [75.692055, 77.72907 , 78.73748 , 82.781006, 79.853676],\n",
       "       [74.57866 , 73.869415, 77.38354 , 76.44338 , 72.85747 ],\n",
       "       [72.843285, 74.92688 , 75.300575, 77.33963 , 76.50084 ],\n",
       "       [72.61388 , 73.775085, 74.475746, 78.17656 , 73.74274 ]],\n",
       "      dtype=float32)>"
      ]
     },
     "execution_count": 21,
     "metadata": {},
     "output_type": "execute_result"
    }
   ],
   "source": [
    "tf.matmul(t1, tf.transpose(t2)) # t2 must be transposed to match inner dimensions"
   ]
  },
  {
   "cell_type": "code",
   "execution_count": 22,
   "id": "3967a6d0",
   "metadata": {},
   "outputs": [
    {
     "data": {
      "text/plain": [
       "<tf.Tensor: shape=(5, 5), dtype=float32, numpy=\n",
       "array([[75.93191 , 81.30072 , 78.46893 , 82.85084 , 77.08854 ],\n",
       "       [75.692055, 77.72907 , 78.73748 , 82.781006, 79.853676],\n",
       "       [74.57866 , 73.869415, 77.38354 , 76.44338 , 72.85747 ],\n",
       "       [72.843285, 74.92688 , 75.300575, 77.33963 , 76.50084 ],\n",
       "       [72.61388 , 73.775085, 74.475746, 78.17656 , 73.74274 ]],\n",
       "      dtype=float32)>"
      ]
     },
     "execution_count": 22,
     "metadata": {},
     "output_type": "execute_result"
    }
   ],
   "source": [
    "# Alternative solution\n",
    "tf.matmul(a=t1, b=t2, transpose_a=False, transpose_b=True)"
   ]
  },
  {
   "cell_type": "markdown",
   "id": "2d548d31",
   "metadata": {},
   "source": [
    "#### 5. Multiply the two tensors you created in 3 using dot product."
   ]
  },
  {
   "cell_type": "code",
   "execution_count": 24,
   "id": "7e2b9658",
   "metadata": {},
   "outputs": [
    {
     "data": {
      "text/plain": [
       "<tf.Tensor: shape=(5, 5), dtype=float32, numpy=\n",
       "array([[75.93191 , 81.30072 , 78.46893 , 82.85084 , 77.08854 ],\n",
       "       [75.692055, 77.72907 , 78.73748 , 82.781006, 79.853676],\n",
       "       [74.57866 , 73.869415, 77.38354 , 76.44338 , 72.85747 ],\n",
       "       [72.843285, 74.92688 , 75.300575, 77.33963 , 76.50084 ],\n",
       "       [72.61388 , 73.775085, 74.475746, 78.17656 , 73.74274 ]],\n",
       "      dtype=float32)>"
      ]
     },
     "execution_count": 24,
     "metadata": {},
     "output_type": "execute_result"
    }
   ],
   "source": [
    "# Transpose and reshape give different values\n",
    "tf.tensordot(t1, tf.transpose(t2), axes = 1)"
   ]
  },
  {
   "cell_type": "code",
   "execution_count": 27,
   "id": "54a60dd1",
   "metadata": {},
   "outputs": [
    {
     "data": {
      "text/plain": [
       "<tf.Tensor: shape=(5, 5), dtype=float32, numpy=\n",
       "array([[75.41582 , 83.41582 , 75.83809 , 78.868126, 80.554344],\n",
       "       [77.131256, 84.00922 , 77.80853 , 76.60035 , 78.34891 ],\n",
       "       [75.78443 , 78.92647 , 74.420685, 73.108986, 77.20211 ],\n",
       "       [73.43348 , 80.24328 , 72.83789 , 73.63935 , 76.12943 ],\n",
       "       [76.066124, 80.10658 , 72.61537 , 73.48934 , 77.09557 ]],\n",
       "      dtype=float32)>"
      ]
     },
     "execution_count": 27,
     "metadata": {},
     "output_type": "execute_result"
    }
   ],
   "source": [
    "tf.tensordot(t1, tf.reshape(t2, (300, 5)), axes = 1) # Equivalent to matrix multiplication with axes = 1"
   ]
  },
  {
   "cell_type": "markdown",
   "id": "0a716219",
   "metadata": {},
   "source": [
    "#### 6. Create a tensor with random values between 0 and 1 with shape [224, 224, 3]."
   ]
  },
  {
   "cell_type": "code",
   "execution_count": 28,
   "id": "59c1bcae",
   "metadata": {},
   "outputs": [
    {
     "data": {
      "text/plain": [
       "<tf.Tensor: shape=(224, 224, 3), dtype=float32, numpy=\n",
       "array([[[0.77368736, 0.05679345, 0.1551255 ],\n",
       "        [0.24431407, 0.26763332, 0.87425125],\n",
       "        [0.80820537, 0.12272811, 0.26018178],\n",
       "        ...,\n",
       "        [0.49735868, 0.70199573, 0.01618671],\n",
       "        [0.597582  , 0.6264254 , 0.08093953],\n",
       "        [0.97556424, 0.6489098 , 0.994004  ]],\n",
       "\n",
       "       [[0.99722373, 0.74475586, 0.4281968 ],\n",
       "        [0.46660256, 0.41416526, 0.3043779 ],\n",
       "        [0.5266125 , 0.40625536, 0.2546097 ],\n",
       "        ...,\n",
       "        [0.14856946, 0.17556524, 0.15663123],\n",
       "        [0.41591585, 0.48954403, 0.39670432],\n",
       "        [0.7516278 , 0.36357784, 0.24577975]],\n",
       "\n",
       "       [[0.4924556 , 0.7977481 , 0.3987521 ],\n",
       "        [0.3259958 , 0.21984398, 0.13529742],\n",
       "        [0.47242033, 0.11449802, 0.5223335 ],\n",
       "        ...,\n",
       "        [0.2789154 , 0.26294422, 0.8722068 ],\n",
       "        [0.1292615 , 0.12695122, 0.48264337],\n",
       "        [0.40513408, 0.15598667, 0.39451766]],\n",
       "\n",
       "       ...,\n",
       "\n",
       "       [[0.24456859, 0.20309865, 0.7976309 ],\n",
       "        [0.8159269 , 0.9733175 , 0.02970457],\n",
       "        [0.46075773, 0.16086102, 0.9859568 ],\n",
       "        ...,\n",
       "        [0.94079137, 0.1388911 , 0.52241194],\n",
       "        [0.49970663, 0.31437612, 0.7204988 ],\n",
       "        [0.2155286 , 0.7475935 , 0.44558668]],\n",
       "\n",
       "       [[0.13719213, 0.92689025, 0.17536604],\n",
       "        [0.6147671 , 0.4063306 , 0.41399813],\n",
       "        [0.69904757, 0.17333412, 0.4522946 ],\n",
       "        ...,\n",
       "        [0.4297861 , 0.94747853, 0.15801823],\n",
       "        [0.9096538 , 0.30147362, 0.60499096],\n",
       "        [0.9586241 , 0.91683984, 0.5552094 ]],\n",
       "\n",
       "       [[0.9697119 , 0.27572787, 0.02509487],\n",
       "        [0.1760478 , 0.42123795, 0.82266796],\n",
       "        [0.7459035 , 0.07382691, 0.62285364],\n",
       "        ...,\n",
       "        [0.92469513, 0.6766006 , 0.58060634],\n",
       "        [0.14887464, 0.18746483, 0.57714415],\n",
       "        [0.9346024 , 0.978325  , 0.10180163]]], dtype=float32)>"
      ]
     },
     "execution_count": 28,
     "metadata": {},
     "output_type": "execute_result"
    }
   ],
   "source": [
    "t3 = tf.random.uniform(shape = [224,224,3])\n",
    "t3"
   ]
  },
  {
   "cell_type": "markdown",
   "id": "050857dc",
   "metadata": {},
   "source": [
    "#### 7. Find the min and max values of the tensor you created in 6 along the first axis."
   ]
  },
  {
   "cell_type": "code",
   "execution_count": 33,
   "id": "25ef1742",
   "metadata": {},
   "outputs": [
    {
     "name": "stdout",
     "output_type": "stream",
     "text": [
      "Min => 0.0001481771469116211\n",
      "Max => 0.99465012550354\n"
     ]
    }
   ],
   "source": [
    "print('Min => {}'.format(tf.reduce_min(t3[0, :, :])))\n",
    "print('Max => {}'.format(tf.reduce_max(t3[0, :, :])))"
   ]
  },
  {
   "cell_type": "markdown",
   "id": "ac8b4f44",
   "metadata": {},
   "source": [
    "#### 8. Created a tensor with random values of shape [1, 224, 224, 3] then squeeze it to change the shape to [224, 224, 3]."
   ]
  },
  {
   "cell_type": "code",
   "execution_count": 55,
   "id": "730da1a7",
   "metadata": {},
   "outputs": [
    {
     "data": {
      "text/plain": [
       "(TensorShape([224, 224, 3]), 3)"
      ]
     },
     "execution_count": 55,
     "metadata": {},
     "output_type": "execute_result"
    }
   ],
   "source": [
    "t4 = tf.random.normal([1, 224, 224, 3], 5, 5)\n",
    "squeezed_t4 = tf.squeeze(t4)\n",
    "squeezed_t4.shape, squeezed_t4.ndim"
   ]
  },
  {
   "cell_type": "markdown",
   "id": "d2e4af4d",
   "metadata": {},
   "source": [
    "#### 9. Create a tensor with shape [10] using your own choice of values, then find the index which has the maximum value."
   ]
  },
  {
   "cell_type": "code",
   "execution_count": 65,
   "id": "8e632073",
   "metadata": {},
   "outputs": [
    {
     "name": "stdout",
     "output_type": "stream",
     "text": [
      "tf.Tensor([  1   2   3   4 534   6   7   8   9  10], shape=(10,), dtype=int32)\n",
      "Index of maximum value: 4\n"
     ]
    }
   ],
   "source": [
    "t5 = tf.constant([1,2,3,4,534,6,7,8,9,10])\n",
    "print(t5)\n",
    "print('Index of maximum value: {}'.format(tf.argmax(t5)))"
   ]
  },
  {
   "cell_type": "markdown",
   "id": "a288e8a7",
   "metadata": {},
   "source": [
    "#### 10. One-hot encode the tensor you created in 9."
   ]
  },
  {
   "cell_type": "code",
   "execution_count": 66,
   "id": "36142cab",
   "metadata": {},
   "outputs": [
    {
     "data": {
      "text/plain": [
       "<tf.Tensor: shape=(10, 10), dtype=float32, numpy=\n",
       "array([[0., 1., 0., 0., 0., 0., 0., 0., 0., 0.],\n",
       "       [0., 0., 1., 0., 0., 0., 0., 0., 0., 0.],\n",
       "       [0., 0., 0., 1., 0., 0., 0., 0., 0., 0.],\n",
       "       [0., 0., 0., 0., 1., 0., 0., 0., 0., 0.],\n",
       "       [0., 0., 0., 0., 0., 0., 0., 0., 0., 0.],\n",
       "       [0., 0., 0., 0., 0., 0., 1., 0., 0., 0.],\n",
       "       [0., 0., 0., 0., 0., 0., 0., 1., 0., 0.],\n",
       "       [0., 0., 0., 0., 0., 0., 0., 0., 1., 0.],\n",
       "       [0., 0., 0., 0., 0., 0., 0., 0., 0., 1.],\n",
       "       [0., 0., 0., 0., 0., 0., 0., 0., 0., 0.]], dtype=float32)>"
      ]
     },
     "execution_count": 66,
     "metadata": {},
     "output_type": "execute_result"
    }
   ],
   "source": [
    "tf.one_hot(t5, 10)"
   ]
  },
  {
   "cell_type": "code",
   "execution_count": null,
   "id": "c6aa99bb",
   "metadata": {},
   "outputs": [],
   "source": []
  }
 ],
 "metadata": {
  "kernelspec": {
   "display_name": "Python 3 (ipykernel)",
   "language": "python",
   "name": "python3"
  },
  "language_info": {
   "codemirror_mode": {
    "name": "ipython",
    "version": 3
   },
   "file_extension": ".py",
   "mimetype": "text/x-python",
   "name": "python",
   "nbconvert_exporter": "python",
   "pygments_lexer": "ipython3",
   "version": "3.7.11"
  }
 },
 "nbformat": 4,
 "nbformat_minor": 5
}
